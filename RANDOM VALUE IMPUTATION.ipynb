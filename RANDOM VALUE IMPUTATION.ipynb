{
 "cells": [
  {
   "cell_type": "code",
   "execution_count": 325,
   "id": "0c877f4f",
   "metadata": {},
   "outputs": [],
   "source": [
    "import numpy as np\n",
    "import pandas as pd\n",
    "import matplotlib.pyplot as plt\n",
    "import seaborn as sns\n",
    "from sklearn.model_selection import train_test_split"
   ]
  },
  {
   "cell_type": "code",
   "execution_count": 326,
   "id": "53be1ad2",
   "metadata": {},
   "outputs": [],
   "source": [
    "df = pd.read_csv('E:\\\\Datasets\\\\train - train.csv',usecols=['Age','Fare','Survived'])"
   ]
  },
  {
   "cell_type": "code",
   "execution_count": 327,
   "id": "cec9a25c",
   "metadata": {},
   "outputs": [],
   "source": [
    "x = df.drop(columns=['Survived'])\n",
    "\n",
    "y = df['Survived']"
   ]
  },
  {
   "cell_type": "code",
   "execution_count": 328,
   "id": "30b96256",
   "metadata": {},
   "outputs": [],
   "source": [
    "x_train,x_test,y_train,y_test = train_test_split(x,y,test_size=.2,random_state=2)"
   ]
  },
  {
   "cell_type": "code",
   "execution_count": 329,
   "id": "94d49f21",
   "metadata": {},
   "outputs": [
    {
     "data": {
      "text/plain": [
       "148"
      ]
     },
     "execution_count": 329,
     "metadata": {},
     "output_type": "execute_result"
    }
   ],
   "source": [
    "x_train.Age.isnull().sum()"
   ]
  },
  {
   "cell_type": "code",
   "execution_count": 330,
   "id": "e4d176f0",
   "metadata": {},
   "outputs": [],
   "source": [
    "x_train['age_imputed'] = x_train['Age']\n",
    "\n",
    "x_train['fare_imputed'] = x_train['Fare']"
   ]
  },
  {
   "cell_type": "code",
   "execution_count": 331,
   "id": "c9a2329b",
   "metadata": {},
   "outputs": [
    {
     "data": {
      "text/html": [
       "<div>\n",
       "<style scoped>\n",
       "    .dataframe tbody tr th:only-of-type {\n",
       "        vertical-align: middle;\n",
       "    }\n",
       "\n",
       "    .dataframe tbody tr th {\n",
       "        vertical-align: top;\n",
       "    }\n",
       "\n",
       "    .dataframe thead th {\n",
       "        text-align: right;\n",
       "    }\n",
       "</style>\n",
       "<table border=\"1\" class=\"dataframe\">\n",
       "  <thead>\n",
       "    <tr style=\"text-align: right;\">\n",
       "      <th></th>\n",
       "      <th>Age</th>\n",
       "      <th>Fare</th>\n",
       "      <th>age_imputed</th>\n",
       "      <th>fare_imputed</th>\n",
       "    </tr>\n",
       "  </thead>\n",
       "  <tbody>\n",
       "    <tr>\n",
       "      <th>30</th>\n",
       "      <td>40.0</td>\n",
       "      <td>27.7208</td>\n",
       "      <td>40.0</td>\n",
       "      <td>27.7208</td>\n",
       "    </tr>\n",
       "    <tr>\n",
       "      <th>10</th>\n",
       "      <td>4.0</td>\n",
       "      <td>16.7000</td>\n",
       "      <td>4.0</td>\n",
       "      <td>16.7000</td>\n",
       "    </tr>\n",
       "    <tr>\n",
       "      <th>873</th>\n",
       "      <td>47.0</td>\n",
       "      <td>9.0000</td>\n",
       "      <td>47.0</td>\n",
       "      <td>9.0000</td>\n",
       "    </tr>\n",
       "    <tr>\n",
       "      <th>182</th>\n",
       "      <td>9.0</td>\n",
       "      <td>31.3875</td>\n",
       "      <td>9.0</td>\n",
       "      <td>31.3875</td>\n",
       "    </tr>\n",
       "    <tr>\n",
       "      <th>876</th>\n",
       "      <td>20.0</td>\n",
       "      <td>9.8458</td>\n",
       "      <td>20.0</td>\n",
       "      <td>9.8458</td>\n",
       "    </tr>\n",
       "    <tr>\n",
       "      <th>...</th>\n",
       "      <td>...</td>\n",
       "      <td>...</td>\n",
       "      <td>...</td>\n",
       "      <td>...</td>\n",
       "    </tr>\n",
       "    <tr>\n",
       "      <th>534</th>\n",
       "      <td>30.0</td>\n",
       "      <td>8.6625</td>\n",
       "      <td>30.0</td>\n",
       "      <td>8.6625</td>\n",
       "    </tr>\n",
       "    <tr>\n",
       "      <th>584</th>\n",
       "      <td>NaN</td>\n",
       "      <td>8.7125</td>\n",
       "      <td>NaN</td>\n",
       "      <td>8.7125</td>\n",
       "    </tr>\n",
       "    <tr>\n",
       "      <th>493</th>\n",
       "      <td>71.0</td>\n",
       "      <td>49.5042</td>\n",
       "      <td>71.0</td>\n",
       "      <td>49.5042</td>\n",
       "    </tr>\n",
       "    <tr>\n",
       "      <th>527</th>\n",
       "      <td>NaN</td>\n",
       "      <td>221.7792</td>\n",
       "      <td>NaN</td>\n",
       "      <td>221.7792</td>\n",
       "    </tr>\n",
       "    <tr>\n",
       "      <th>168</th>\n",
       "      <td>NaN</td>\n",
       "      <td>25.9250</td>\n",
       "      <td>NaN</td>\n",
       "      <td>25.9250</td>\n",
       "    </tr>\n",
       "  </tbody>\n",
       "</table>\n",
       "<p>712 rows × 4 columns</p>\n",
       "</div>"
      ],
      "text/plain": [
       "      Age      Fare  age_imputed  fare_imputed\n",
       "30   40.0   27.7208         40.0       27.7208\n",
       "10    4.0   16.7000          4.0       16.7000\n",
       "873  47.0    9.0000         47.0        9.0000\n",
       "182   9.0   31.3875          9.0       31.3875\n",
       "876  20.0    9.8458         20.0        9.8458\n",
       "..    ...       ...          ...           ...\n",
       "534  30.0    8.6625         30.0        8.6625\n",
       "584   NaN    8.7125          NaN        8.7125\n",
       "493  71.0   49.5042         71.0       49.5042\n",
       "527   NaN  221.7792          NaN      221.7792\n",
       "168   NaN   25.9250          NaN       25.9250\n",
       "\n",
       "[712 rows x 4 columns]"
      ]
     },
     "execution_count": 331,
     "metadata": {},
     "output_type": "execute_result"
    }
   ],
   "source": [
    "x_train"
   ]
  },
  {
   "cell_type": "code",
   "execution_count": 332,
   "id": "af98a996",
   "metadata": {},
   "outputs": [],
   "source": [
    "x_train['age_imputed'][x_train['age_imputed'].isnull()] = x_train['Age'].dropna().sample(x_train['age_imputed'].isnull().sum()).values\n",
    "\n",
    "x_train['fare_imputed'][x_train['fare_imputed'].isnull()] = x_train['Fare'].dropna().sample(x_train['fare_imputed'].isnull().sum()).values"
   ]
  },
  {
   "cell_type": "code",
   "execution_count": 333,
   "id": "00d0055d",
   "metadata": {},
   "outputs": [
    {
     "data": {
      "text/html": [
       "<div>\n",
       "<style scoped>\n",
       "    .dataframe tbody tr th:only-of-type {\n",
       "        vertical-align: middle;\n",
       "    }\n",
       "\n",
       "    .dataframe tbody tr th {\n",
       "        vertical-align: top;\n",
       "    }\n",
       "\n",
       "    .dataframe thead th {\n",
       "        text-align: right;\n",
       "    }\n",
       "</style>\n",
       "<table border=\"1\" class=\"dataframe\">\n",
       "  <thead>\n",
       "    <tr style=\"text-align: right;\">\n",
       "      <th></th>\n",
       "      <th>Age</th>\n",
       "      <th>Fare</th>\n",
       "      <th>age_imputed</th>\n",
       "      <th>fare_imputed</th>\n",
       "    </tr>\n",
       "  </thead>\n",
       "  <tbody>\n",
       "    <tr>\n",
       "      <th>30</th>\n",
       "      <td>40.0</td>\n",
       "      <td>27.7208</td>\n",
       "      <td>40.0</td>\n",
       "      <td>27.7208</td>\n",
       "    </tr>\n",
       "    <tr>\n",
       "      <th>10</th>\n",
       "      <td>4.0</td>\n",
       "      <td>16.7000</td>\n",
       "      <td>4.0</td>\n",
       "      <td>16.7000</td>\n",
       "    </tr>\n",
       "    <tr>\n",
       "      <th>873</th>\n",
       "      <td>47.0</td>\n",
       "      <td>9.0000</td>\n",
       "      <td>47.0</td>\n",
       "      <td>9.0000</td>\n",
       "    </tr>\n",
       "    <tr>\n",
       "      <th>182</th>\n",
       "      <td>9.0</td>\n",
       "      <td>31.3875</td>\n",
       "      <td>9.0</td>\n",
       "      <td>31.3875</td>\n",
       "    </tr>\n",
       "    <tr>\n",
       "      <th>876</th>\n",
       "      <td>20.0</td>\n",
       "      <td>9.8458</td>\n",
       "      <td>20.0</td>\n",
       "      <td>9.8458</td>\n",
       "    </tr>\n",
       "    <tr>\n",
       "      <th>...</th>\n",
       "      <td>...</td>\n",
       "      <td>...</td>\n",
       "      <td>...</td>\n",
       "      <td>...</td>\n",
       "    </tr>\n",
       "    <tr>\n",
       "      <th>534</th>\n",
       "      <td>30.0</td>\n",
       "      <td>8.6625</td>\n",
       "      <td>30.0</td>\n",
       "      <td>8.6625</td>\n",
       "    </tr>\n",
       "    <tr>\n",
       "      <th>584</th>\n",
       "      <td>NaN</td>\n",
       "      <td>8.7125</td>\n",
       "      <td>18.0</td>\n",
       "      <td>8.7125</td>\n",
       "    </tr>\n",
       "    <tr>\n",
       "      <th>493</th>\n",
       "      <td>71.0</td>\n",
       "      <td>49.5042</td>\n",
       "      <td>71.0</td>\n",
       "      <td>49.5042</td>\n",
       "    </tr>\n",
       "    <tr>\n",
       "      <th>527</th>\n",
       "      <td>NaN</td>\n",
       "      <td>221.7792</td>\n",
       "      <td>24.0</td>\n",
       "      <td>221.7792</td>\n",
       "    </tr>\n",
       "    <tr>\n",
       "      <th>168</th>\n",
       "      <td>NaN</td>\n",
       "      <td>25.9250</td>\n",
       "      <td>45.0</td>\n",
       "      <td>25.9250</td>\n",
       "    </tr>\n",
       "  </tbody>\n",
       "</table>\n",
       "<p>712 rows × 4 columns</p>\n",
       "</div>"
      ],
      "text/plain": [
       "      Age      Fare  age_imputed  fare_imputed\n",
       "30   40.0   27.7208         40.0       27.7208\n",
       "10    4.0   16.7000          4.0       16.7000\n",
       "873  47.0    9.0000         47.0        9.0000\n",
       "182   9.0   31.3875          9.0       31.3875\n",
       "876  20.0    9.8458         20.0        9.8458\n",
       "..    ...       ...          ...           ...\n",
       "534  30.0    8.6625         30.0        8.6625\n",
       "584   NaN    8.7125         18.0        8.7125\n",
       "493  71.0   49.5042         71.0       49.5042\n",
       "527   NaN  221.7792         24.0      221.7792\n",
       "168   NaN   25.9250         45.0       25.9250\n",
       "\n",
       "[712 rows x 4 columns]"
      ]
     },
     "execution_count": 333,
     "metadata": {},
     "output_type": "execute_result"
    }
   ],
   "source": [
    "x_train"
   ]
  },
  {
   "cell_type": "code",
   "execution_count": 334,
   "id": "76d5cd84",
   "metadata": {},
   "outputs": [
    {
     "data": {
      "text/plain": [
       "Age             148\n",
       "Fare              0\n",
       "age_imputed       0\n",
       "fare_imputed      0\n",
       "dtype: int64"
      ]
     },
     "execution_count": 334,
     "metadata": {},
     "output_type": "execute_result"
    }
   ],
   "source": [
    "x_train.isnull().sum()"
   ]
  },
  {
   "cell_type": "code",
   "execution_count": 335,
   "id": "ac6d8301",
   "metadata": {},
   "outputs": [
    {
     "name": "stderr",
     "output_type": "stream",
     "text": [
      "C:\\Users\\Moavia computer\\anaconda3\\lib\\site-packages\\seaborn\\distributions.py:2619: FutureWarning: `distplot` is a deprecated function and will be removed in a future version. Please adapt your code to use either `displot` (a figure-level function with similar flexibility) or `kdeplot` (an axes-level function for kernel density plots).\n",
      "  warnings.warn(msg, FutureWarning)\n",
      "C:\\Users\\Moavia computer\\anaconda3\\lib\\site-packages\\seaborn\\distributions.py:2619: FutureWarning: `distplot` is a deprecated function and will be removed in a future version. Please adapt your code to use either `displot` (a figure-level function with similar flexibility) or `kdeplot` (an axes-level function for kernel density plots).\n",
      "  warnings.warn(msg, FutureWarning)\n"
     ]
    },
    {
     "data": {
      "text/plain": [
       "<AxesSubplot:xlabel='age_imputed', ylabel='Density'>"
      ]
     },
     "execution_count": 335,
     "metadata": {},
     "output_type": "execute_result"
    },
    {
     "data": {
      "image/png": "[encoded data removed]",
      "text/plain": [
       "<Figure size 432x288 with 1 Axes>"
      ]
     },
     "metadata": {
      "needs_background": "light"
     },
     "output_type": "display_data"
    }
   ],
   "source": [
    "sns.distplot(x=x_train.Age,hist=False)\n",
    "\n",
    "sns.distplot(x_train.age_imputed,hist=False)"
   ]
  },
  {
   "cell_type": "code",
   "execution_count": 336,
   "id": "ba590949",
   "metadata": {},
   "outputs": [
    {
     "name": "stdout",
     "output_type": "stream",
     "text": [
      "The variance of original Age is : 204.3495133904614\n",
      "The variance of imputed Age is : 205.99220388102748\n"
     ]
    }
   ],
   "source": [
    "print('The variance of original Age is :',x_train['Age'].var())\n",
    "\n",
    "print('The variance of imputed Age is :',x_train['age_imputed'].var())"
   ]
  },
  {
   "cell_type": "code",
   "execution_count": 337,
   "id": "a4377574",
   "metadata": {},
   "outputs": [
    {
     "data": {
      "text/plain": [
       "<AxesSubplot:>"
      ]
     },
     "execution_count": 337,
     "metadata": {},
     "output_type": "execute_result"
    },
    {
     "data": {
      "image/png": "[encoded data removed]",
      "text/plain": [
       "<Figure size 432x288 with 1 Axes>"
      ]
     },
     "metadata": {
      "needs_background": "light"
     },
     "output_type": "display_data"
    }
   ],
   "source": [
    "x_train[['Age','age_imputed']].boxplot()"
   ]
  },
  {
   "cell_type": "code",
   "execution_count": 338,
   "id": "c79bb725",
   "metadata": {
    "scrolled": false
   },
   "outputs": [
    {
     "data": {
      "text/html": [
       "<div>\n",
       "<style scoped>\n",
       "    .dataframe tbody tr th:only-of-type {\n",
       "        vertical-align: middle;\n",
       "    }\n",
       "\n",
       "    .dataframe tbody tr th {\n",
       "        vertical-align: top;\n",
       "    }\n",
       "\n",
       "    .dataframe thead th {\n",
       "        text-align: right;\n",
       "    }\n",
       "</style>\n",
       "<table border=\"1\" class=\"dataframe\">\n",
       "  <thead>\n",
       "    <tr style=\"text-align: right;\">\n",
       "      <th></th>\n",
       "      <th>Age</th>\n",
       "      <th>Fare</th>\n",
       "      <th>age_imputed</th>\n",
       "      <th>fare_imputed</th>\n",
       "    </tr>\n",
       "  </thead>\n",
       "  <tbody>\n",
       "    <tr>\n",
       "      <th>30</th>\n",
       "      <td>40.0</td>\n",
       "      <td>27.7208</td>\n",
       "      <td>40.0</td>\n",
       "      <td>27.7208</td>\n",
       "    </tr>\n",
       "    <tr>\n",
       "      <th>10</th>\n",
       "      <td>4.0</td>\n",
       "      <td>16.7000</td>\n",
       "      <td>4.0</td>\n",
       "      <td>16.7000</td>\n",
       "    </tr>\n",
       "    <tr>\n",
       "      <th>873</th>\n",
       "      <td>47.0</td>\n",
       "      <td>9.0000</td>\n",
       "      <td>47.0</td>\n",
       "      <td>9.0000</td>\n",
       "    </tr>\n",
       "    <tr>\n",
       "      <th>182</th>\n",
       "      <td>9.0</td>\n",
       "      <td>31.3875</td>\n",
       "      <td>9.0</td>\n",
       "      <td>31.3875</td>\n",
       "    </tr>\n",
       "    <tr>\n",
       "      <th>876</th>\n",
       "      <td>20.0</td>\n",
       "      <td>9.8458</td>\n",
       "      <td>20.0</td>\n",
       "      <td>9.8458</td>\n",
       "    </tr>\n",
       "    <tr>\n",
       "      <th>...</th>\n",
       "      <td>...</td>\n",
       "      <td>...</td>\n",
       "      <td>...</td>\n",
       "      <td>...</td>\n",
       "    </tr>\n",
       "    <tr>\n",
       "      <th>534</th>\n",
       "      <td>30.0</td>\n",
       "      <td>8.6625</td>\n",
       "      <td>30.0</td>\n",
       "      <td>8.6625</td>\n",
       "    </tr>\n",
       "    <tr>\n",
       "      <th>584</th>\n",
       "      <td>NaN</td>\n",
       "      <td>8.7125</td>\n",
       "      <td>18.0</td>\n",
       "      <td>8.7125</td>\n",
       "    </tr>\n",
       "    <tr>\n",
       "      <th>493</th>\n",
       "      <td>71.0</td>\n",
       "      <td>49.5042</td>\n",
       "      <td>71.0</td>\n",
       "      <td>49.5042</td>\n",
       "    </tr>\n",
       "    <tr>\n",
       "      <th>527</th>\n",
       "      <td>NaN</td>\n",
       "      <td>221.7792</td>\n",
       "      <td>24.0</td>\n",
       "      <td>221.7792</td>\n",
       "    </tr>\n",
       "    <tr>\n",
       "      <th>168</th>\n",
       "      <td>NaN</td>\n",
       "      <td>25.9250</td>\n",
       "      <td>45.0</td>\n",
       "      <td>25.9250</td>\n",
       "    </tr>\n",
       "  </tbody>\n",
       "</table>\n",
       "<p>712 rows × 4 columns</p>\n",
       "</div>"
      ],
      "text/plain": [
       "      Age      Fare  age_imputed  fare_imputed\n",
       "30   40.0   27.7208         40.0       27.7208\n",
       "10    4.0   16.7000          4.0       16.7000\n",
       "873  47.0    9.0000         47.0        9.0000\n",
       "182   9.0   31.3875          9.0       31.3875\n",
       "876  20.0    9.8458         20.0        9.8458\n",
       "..    ...       ...          ...           ...\n",
       "534  30.0    8.6625         30.0        8.6625\n",
       "584   NaN    8.7125         18.0        8.7125\n",
       "493  71.0   49.5042         71.0       49.5042\n",
       "527   NaN  221.7792         24.0      221.7792\n",
       "168   NaN   25.9250         45.0       25.9250\n",
       "\n",
       "[712 rows x 4 columns]"
      ]
     },
     "execution_count": 338,
     "metadata": {},
     "output_type": "execute_result"
    }
   ],
   "source": [
    "x_train"
   ]
  },
  {
   "cell_type": "code",
   "execution_count": 339,
   "id": "6fe378d6",
   "metadata": {},
   "outputs": [
    {
     "data": {
      "text/html": [
       "<div>\n",
       "<style scoped>\n",
       "    .dataframe tbody tr th:only-of-type {\n",
       "        vertical-align: middle;\n",
       "    }\n",
       "\n",
       "    .dataframe tbody tr th {\n",
       "        vertical-align: top;\n",
       "    }\n",
       "\n",
       "    .dataframe thead th {\n",
       "        text-align: right;\n",
       "    }\n",
       "</style>\n",
       "<table border=\"1\" class=\"dataframe\">\n",
       "  <thead>\n",
       "    <tr style=\"text-align: right;\">\n",
       "      <th></th>\n",
       "      <th>FireplaceQu</th>\n",
       "      <th>GarageQual</th>\n",
       "      <th>SalePrice</th>\n",
       "    </tr>\n",
       "  </thead>\n",
       "  <tbody>\n",
       "    <tr>\n",
       "      <th>0</th>\n",
       "      <td>NaN</td>\n",
       "      <td>TA</td>\n",
       "      <td>208500</td>\n",
       "    </tr>\n",
       "    <tr>\n",
       "      <th>1</th>\n",
       "      <td>TA</td>\n",
       "      <td>TA</td>\n",
       "      <td>181500</td>\n",
       "    </tr>\n",
       "    <tr>\n",
       "      <th>2</th>\n",
       "      <td>TA</td>\n",
       "      <td>TA</td>\n",
       "      <td>223500</td>\n",
       "    </tr>\n",
       "    <tr>\n",
       "      <th>3</th>\n",
       "      <td>Gd</td>\n",
       "      <td>TA</td>\n",
       "      <td>140000</td>\n",
       "    </tr>\n",
       "    <tr>\n",
       "      <th>4</th>\n",
       "      <td>TA</td>\n",
       "      <td>TA</td>\n",
       "      <td>250000</td>\n",
       "    </tr>\n",
       "  </tbody>\n",
       "</table>\n",
       "</div>"
      ],
      "text/plain": [
       "  FireplaceQu GarageQual  SalePrice\n",
       "0         NaN         TA     208500\n",
       "1          TA         TA     181500\n",
       "2          TA         TA     223500\n",
       "3          Gd         TA     140000\n",
       "4          TA         TA     250000"
      ]
     },
     "execution_count": 339,
     "metadata": {},
     "output_type": "execute_result"
    }
   ],
   "source": [
    "df1 = pd.read_csv('E:\\\\Datasets\\\\train.csv',usecols = ['GarageQual','FireplaceQu','SalePrice'])\n",
    "df1.head()"
   ]
  },
  {
   "cell_type": "code",
   "execution_count": 340,
   "id": "aeec984e",
   "metadata": {},
   "outputs": [],
   "source": [
    "x = df1.drop(columns = ['SalePrice'])\n",
    "\n",
    "y = df1['SalePrice']"
   ]
  },
  {
   "cell_type": "code",
   "execution_count": 341,
   "id": "79d065fd",
   "metadata": {},
   "outputs": [],
   "source": [
    "x_train,x_test,y_train,y_test = train_test_split(x,y,test_size = .2,random_state = 2)"
   ]
  },
  {
   "cell_type": "code",
   "execution_count": 342,
   "id": "f4219290",
   "metadata": {},
   "outputs": [
    {
     "data": {
      "text/plain": [
       "FireplaceQu    0.476884\n",
       "GarageQual     0.055651\n",
       "dtype: float64"
      ]
     },
     "execution_count": 342,
     "metadata": {},
     "output_type": "execute_result"
    }
   ],
   "source": [
    "x_train.isnull().mean()"
   ]
  },
  {
   "cell_type": "code",
   "execution_count": 343,
   "id": "3fb7a211",
   "metadata": {},
   "outputs": [],
   "source": [
    "x_train['garage'] = x_train['GarageQual']\n",
    "\n",
    "\n",
    "x_train['fireplace'] = x_train['FireplaceQu']\n"
   ]
  },
  {
   "cell_type": "code",
   "execution_count": 344,
   "id": "9516d11f",
   "metadata": {},
   "outputs": [
    {
     "data": {
      "text/html": [
       "<div>\n",
       "<style scoped>\n",
       "    .dataframe tbody tr th:only-of-type {\n",
       "        vertical-align: middle;\n",
       "    }\n",
       "\n",
       "    .dataframe tbody tr th {\n",
       "        vertical-align: top;\n",
       "    }\n",
       "\n",
       "    .dataframe thead th {\n",
       "        text-align: right;\n",
       "    }\n",
       "</style>\n",
       "<table border=\"1\" class=\"dataframe\">\n",
       "  <thead>\n",
       "    <tr style=\"text-align: right;\">\n",
       "      <th></th>\n",
       "      <th>FireplaceQu</th>\n",
       "      <th>GarageQual</th>\n",
       "      <th>garage</th>\n",
       "      <th>fireplace</th>\n",
       "    </tr>\n",
       "  </thead>\n",
       "  <tbody>\n",
       "    <tr>\n",
       "      <th>455</th>\n",
       "      <td>TA</td>\n",
       "      <td>TA</td>\n",
       "      <td>TA</td>\n",
       "      <td>TA</td>\n",
       "    </tr>\n",
       "    <tr>\n",
       "      <th>863</th>\n",
       "      <td>NaN</td>\n",
       "      <td>TA</td>\n",
       "      <td>TA</td>\n",
       "      <td>NaN</td>\n",
       "    </tr>\n",
       "    <tr>\n",
       "      <th>504</th>\n",
       "      <td>Fa</td>\n",
       "      <td>TA</td>\n",
       "      <td>TA</td>\n",
       "      <td>Fa</td>\n",
       "    </tr>\n",
       "    <tr>\n",
       "      <th>1413</th>\n",
       "      <td>Gd</td>\n",
       "      <td>TA</td>\n",
       "      <td>TA</td>\n",
       "      <td>Gd</td>\n",
       "    </tr>\n",
       "    <tr>\n",
       "      <th>1389</th>\n",
       "      <td>Gd</td>\n",
       "      <td>TA</td>\n",
       "      <td>TA</td>\n",
       "      <td>Gd</td>\n",
       "    </tr>\n",
       "    <tr>\n",
       "      <th>...</th>\n",
       "      <td>...</td>\n",
       "      <td>...</td>\n",
       "      <td>...</td>\n",
       "      <td>...</td>\n",
       "    </tr>\n",
       "    <tr>\n",
       "      <th>466</th>\n",
       "      <td>Po</td>\n",
       "      <td>TA</td>\n",
       "      <td>TA</td>\n",
       "      <td>Po</td>\n",
       "    </tr>\n",
       "    <tr>\n",
       "      <th>299</th>\n",
       "      <td>Gd</td>\n",
       "      <td>TA</td>\n",
       "      <td>TA</td>\n",
       "      <td>Gd</td>\n",
       "    </tr>\n",
       "    <tr>\n",
       "      <th>493</th>\n",
       "      <td>Fa</td>\n",
       "      <td>TA</td>\n",
       "      <td>TA</td>\n",
       "      <td>Fa</td>\n",
       "    </tr>\n",
       "    <tr>\n",
       "      <th>527</th>\n",
       "      <td>Gd</td>\n",
       "      <td>TA</td>\n",
       "      <td>TA</td>\n",
       "      <td>Gd</td>\n",
       "    </tr>\n",
       "    <tr>\n",
       "      <th>1192</th>\n",
       "      <td>NaN</td>\n",
       "      <td>TA</td>\n",
       "      <td>TA</td>\n",
       "      <td>NaN</td>\n",
       "    </tr>\n",
       "  </tbody>\n",
       "</table>\n",
       "<p>1168 rows × 4 columns</p>\n",
       "</div>"
      ],
      "text/plain": [
       "     FireplaceQu GarageQual garage fireplace\n",
       "455           TA         TA     TA        TA\n",
       "863          NaN         TA     TA       NaN\n",
       "504           Fa         TA     TA        Fa\n",
       "1413          Gd         TA     TA        Gd\n",
       "1389          Gd         TA     TA        Gd\n",
       "...          ...        ...    ...       ...\n",
       "466           Po         TA     TA        Po\n",
       "299           Gd         TA     TA        Gd\n",
       "493           Fa         TA     TA        Fa\n",
       "527           Gd         TA     TA        Gd\n",
       "1192         NaN         TA     TA       NaN\n",
       "\n",
       "[1168 rows x 4 columns]"
      ]
     },
     "execution_count": 344,
     "metadata": {},
     "output_type": "execute_result"
    }
   ],
   "source": [
    "x_train"
   ]
  },
  {
   "cell_type": "code",
   "execution_count": 347,
   "id": "7423ef5d",
   "metadata": {},
   "outputs": [
    {
     "data": {
      "text/plain": [
       "65"
      ]
     },
     "execution_count": 347,
     "metadata": {},
     "output_type": "execute_result"
    }
   ],
   "source": [
    "x_train.garage.isnull().sum()"
   ]
  },
  {
   "cell_type": "code",
   "execution_count": 351,
   "id": "cc9262cc",
   "metadata": {},
   "outputs": [
    {
     "data": {
      "text/plain": [
       "array(['TA', 'TA', 'TA', 'TA', 'TA', 'Gd', 'TA', 'TA', 'TA', 'TA', 'TA',\n",
       "       'TA', 'TA', 'TA', 'TA', 'TA', 'TA', 'TA', 'TA', 'TA', 'TA', 'TA',\n",
       "       'TA', 'TA', 'Gd', 'TA', 'TA', 'TA', 'TA', 'TA', 'TA', 'TA', 'TA',\n",
       "       'TA', 'TA', 'TA', 'TA', 'TA', 'TA', 'TA', 'TA', 'TA', 'TA', 'TA',\n",
       "       'TA', 'TA', 'TA', 'TA', 'TA', 'TA', 'TA', 'TA', 'TA', 'TA', 'TA',\n",
       "       'TA', 'TA', 'TA', 'TA', 'TA', 'TA', 'TA', 'TA', 'TA', 'TA'],\n",
       "      dtype=object)"
      ]
     },
     "execution_count": 351,
     "metadata": {},
     "output_type": "execute_result"
    }
   ],
   "source": [
    "x_train.garage.dropna().sample(x_train.garage.isnull().sum()).values"
   ]
  },
  {
   "cell_type": "code",
   "execution_count": 361,
   "id": "d84d38a9",
   "metadata": {},
   "outputs": [],
   "source": [
    "x_train['garage'][x_train['garage'].isnull()] = x_train.GarageQual.dropna().sample(x_train.GarageQual.isnull().sum()).values"
   ]
  },
  {
   "cell_type": "code",
   "execution_count": 362,
   "id": "9622ef7b",
   "metadata": {},
   "outputs": [
    {
     "data": {
      "text/plain": [
       "FireplaceQu    557\n",
       "GarageQual      65\n",
       "garage           0\n",
       "fireplace      557\n",
       "dtype: int64"
      ]
     },
     "execution_count": 362,
     "metadata": {},
     "output_type": "execute_result"
    }
   ],
   "source": [
    "x_train.isnull().sum()"
   ]
  },
  {
   "cell_type": "code",
   "execution_count": 364,
   "id": "c5ba54e2",
   "metadata": {},
   "outputs": [
    {
     "data": {
      "text/plain": [
       "array(['TA', 'Gd', 'TA', 'TA', 'Po', 'Gd', 'Gd', 'Gd', 'TA', 'TA', 'Gd',\n",
       "       'TA', 'Ex', 'Gd', 'TA', 'Gd', 'Po', 'Gd', 'Gd', 'Gd', 'Gd', 'Gd',\n",
       "       'TA', 'TA', 'Gd', 'Gd', 'TA', 'Gd', 'Gd', 'Po', 'Gd', 'Gd', 'TA',\n",
       "       'Gd', 'Gd', 'Gd', 'Gd', 'Gd', 'Gd', 'Gd', 'Gd', 'Po', 'Fa', 'TA',\n",
       "       'Fa', 'Gd', 'Fa', 'Gd', 'TA', 'Gd', 'Gd', 'TA', 'TA', 'TA', 'TA',\n",
       "       'Gd', 'Gd', 'Gd', 'Gd', 'TA', 'TA', 'Gd', 'Gd', 'TA', 'TA', 'Gd',\n",
       "       'Fa', 'Gd', 'TA', 'Gd', 'TA', 'Gd', 'TA', 'TA', 'Gd', 'TA', 'Ex',\n",
       "       'TA', 'Gd', 'TA', 'TA', 'TA', 'Gd', 'TA', 'Gd', 'TA', 'TA', 'TA',\n",
       "       'TA', 'Gd', 'TA', 'Po', 'Gd', 'Gd', 'Gd', 'Gd', 'TA', 'Gd', 'TA',\n",
       "       'Gd', 'TA', 'Gd', 'Fa', 'TA', 'TA', 'TA', 'Fa', 'Gd', 'TA', 'TA',\n",
       "       'Gd', 'Ex', 'TA', 'Gd', 'Gd', 'TA', 'TA', 'TA', 'Gd', 'Gd', 'Gd',\n",
       "       'TA', 'TA', 'Gd', 'Po', 'TA', 'TA', 'TA', 'TA', 'Gd', 'Gd', 'Gd',\n",
       "       'TA', 'TA', 'TA', 'Gd', 'Gd', 'TA', 'Fa', 'Po', 'Gd', 'TA', 'TA',\n",
       "       'Gd', 'Po', 'Gd', 'TA', 'TA', 'TA', 'TA', 'TA', 'TA', 'Fa', 'Gd',\n",
       "       'TA', 'Gd', 'Gd', 'Gd', 'Gd', 'TA', 'TA', 'Gd', 'TA', 'TA', 'TA',\n",
       "       'TA', 'Gd', 'Gd', 'Gd', 'TA', 'Fa', 'Gd', 'Gd', 'Gd', 'TA', 'TA',\n",
       "       'TA', 'TA', 'Gd', 'TA', 'Gd', 'Gd', 'Gd', 'TA', 'Gd', 'Gd', 'Gd',\n",
       "       'Gd', 'Gd', 'Gd', 'TA', 'TA', 'Gd', 'TA', 'TA', 'Gd', 'Gd', 'TA',\n",
       "       'Gd', 'TA', 'Gd', 'TA', 'Gd', 'TA', 'TA', 'TA', 'Gd', 'Gd', 'Gd',\n",
       "       'Gd', 'Gd', 'TA', 'Gd', 'Gd', 'Gd', 'Gd', 'TA', 'Gd', 'Gd', 'TA',\n",
       "       'Gd', 'Gd', 'TA', 'Gd', 'Fa', 'TA', 'Gd', 'Ex', 'TA', 'Gd', 'Gd',\n",
       "       'Gd', 'TA', 'TA', 'Gd', 'TA', 'TA', 'Gd', 'TA', 'Gd', 'Gd', 'Gd',\n",
       "       'Gd', 'TA', 'TA', 'TA', 'TA', 'Gd', 'TA', 'Gd', 'Gd', 'TA', 'Gd',\n",
       "       'Gd', 'TA', 'TA', 'Gd', 'Fa', 'Po', 'Ex', 'Gd', 'Gd', 'TA', 'TA',\n",
       "       'Gd', 'Gd', 'TA', 'TA', 'TA', 'TA', 'Gd', 'TA', 'TA', 'TA', 'Gd',\n",
       "       'Gd', 'Gd', 'Gd', 'TA', 'Gd', 'Gd', 'TA', 'TA', 'Fa', 'Gd', 'Gd',\n",
       "       'Gd', 'Gd', 'Gd', 'TA', 'TA', 'Gd', 'Gd', 'Gd', 'Gd', 'TA', 'TA',\n",
       "       'Gd', 'Gd', 'Gd', 'TA', 'TA', 'TA', 'Gd', 'Gd', 'Gd', 'Fa', 'Gd',\n",
       "       'Gd', 'Gd', 'Gd', 'TA', 'Gd', 'TA', 'Po', 'Gd', 'Gd', 'TA', 'TA',\n",
       "       'TA', 'Fa', 'Gd', 'TA', 'Gd', 'Gd', 'Fa', 'TA', 'Gd', 'TA', 'TA',\n",
       "       'Gd', 'Gd', 'Gd', 'Ex', 'TA', 'Gd', 'TA', 'Gd', 'Fa', 'Gd', 'Gd',\n",
       "       'TA', 'Gd', 'TA', 'Ex', 'Ex', 'Gd', 'Gd', 'Gd', 'TA', 'Ex', 'Gd',\n",
       "       'Gd', 'TA', 'TA', 'TA', 'Gd', 'TA', 'TA', 'Gd', 'Gd', 'TA', 'TA',\n",
       "       'Gd', 'Gd', 'TA', 'Gd', 'TA', 'Gd', 'Gd', 'TA', 'TA', 'TA', 'TA',\n",
       "       'Gd', 'Gd', 'Gd', 'Gd', 'Gd', 'Gd', 'Gd', 'Ex', 'TA', 'Gd', 'TA',\n",
       "       'TA', 'Gd', 'TA', 'TA', 'TA', 'TA', 'Gd', 'Gd', 'TA', 'TA', 'Gd',\n",
       "       'TA', 'TA', 'Gd', 'Po', 'TA', 'TA', 'TA', 'Gd', 'TA', 'Po', 'Gd',\n",
       "       'TA', 'Gd', 'Gd', 'Gd', 'Ex', 'Gd', 'Gd', 'Gd', 'TA', 'TA', 'Gd',\n",
       "       'TA', 'Gd', 'Fa', 'TA', 'Gd', 'TA', 'TA', 'Gd', 'Po', 'TA', 'Gd',\n",
       "       'Gd', 'Gd', 'Gd', 'Gd', 'Gd', 'Gd', 'Gd', 'TA', 'TA', 'TA', 'Gd',\n",
       "       'Gd', 'TA', 'TA', 'Gd', 'Fa', 'Gd', 'Gd', 'TA', 'Gd', 'Gd', 'TA',\n",
       "       'Gd', 'TA', 'Gd', 'TA', 'Gd', 'Gd', 'Gd', 'Gd', 'TA', 'TA', 'Gd',\n",
       "       'TA', 'Gd', 'TA', 'Gd', 'Gd', 'Gd', 'Gd', 'TA', 'TA', 'TA', 'Ex',\n",
       "       'TA', 'Gd', 'TA', 'TA', 'TA', 'Gd', 'Gd', 'Gd', 'TA', 'Gd', 'TA',\n",
       "       'TA', 'TA', 'Po', 'TA', 'Gd', 'TA', 'Gd', 'Gd', 'Gd', 'TA', 'Gd',\n",
       "       'TA', 'Gd', 'Gd', 'TA', 'TA', 'Ex', 'TA', 'Gd', 'Fa', 'TA', 'Gd',\n",
       "       'TA', 'Fa', 'TA', 'Gd', 'Gd', 'Gd', 'Fa', 'Gd', 'Gd', 'TA', 'Gd',\n",
       "       'Gd', 'Ex', 'TA', 'TA', 'TA', 'Gd', 'TA', 'Gd', 'Gd', 'Gd', 'Gd',\n",
       "       'Gd', 'Gd', 'TA', 'Gd', 'Gd', 'TA', 'TA', 'Gd', 'Gd', 'Gd', 'TA',\n",
       "       'TA', 'TA', 'TA', 'Gd', 'Gd', 'Fa', 'Ex', 'TA', 'Gd', 'TA', 'Gd',\n",
       "       'TA', 'Po', 'Fa', 'Gd', 'Gd', 'Gd', 'Gd'], dtype=object)"
      ]
     },
     "execution_count": 364,
     "metadata": {},
     "output_type": "execute_result"
    }
   ],
   "source": [
    "x_train.FireplaceQu.dropna().sample(x_train.FireplaceQu.isnull().sum()).values"
   ]
  },
  {
   "cell_type": "code",
   "execution_count": 369,
   "id": "81489faf",
   "metadata": {},
   "outputs": [
    {
     "data": {
      "text/plain": [
       "557"
      ]
     },
     "execution_count": 369,
     "metadata": {},
     "output_type": "execute_result"
    }
   ],
   "source": [
    "x_train.fireplace.isnull().sum()"
   ]
  },
  {
   "cell_type": "code",
   "execution_count": 370,
   "id": "8b72174d",
   "metadata": {},
   "outputs": [],
   "source": [
    "x_train['fireplace'][x_train['fireplace'].isnull()] = x_train.FireplaceQu.dropna().sample(x_train.FireplaceQu.isnull().sum()).values"
   ]
  },
  {
   "cell_type": "code",
   "execution_count": 371,
   "id": "fd7abc6c",
   "metadata": {},
   "outputs": [
    {
     "data": {
      "text/plain": [
       "FireplaceQu    557\n",
       "GarageQual      65\n",
       "garage           0\n",
       "fireplace        0\n",
       "dtype: int64"
      ]
     },
     "execution_count": 371,
     "metadata": {},
     "output_type": "execute_result"
    }
   ],
   "source": [
    "x_train.isnull().sum()"
   ]
  },
  {
   "cell_type": "code",
   "execution_count": 372,
   "id": "187ae3b8",
   "metadata": {},
   "outputs": [
    {
     "data": {
      "text/html": [
       "<div>\n",
       "<style scoped>\n",
       "    .dataframe tbody tr th:only-of-type {\n",
       "        vertical-align: middle;\n",
       "    }\n",
       "\n",
       "    .dataframe tbody tr th {\n",
       "        vertical-align: top;\n",
       "    }\n",
       "\n",
       "    .dataframe thead th {\n",
       "        text-align: right;\n",
       "    }\n",
       "</style>\n",
       "<table border=\"1\" class=\"dataframe\">\n",
       "  <thead>\n",
       "    <tr style=\"text-align: right;\">\n",
       "      <th></th>\n",
       "      <th>FireplaceQu</th>\n",
       "      <th>GarageQual</th>\n",
       "      <th>garage</th>\n",
       "      <th>fireplace</th>\n",
       "    </tr>\n",
       "  </thead>\n",
       "  <tbody>\n",
       "    <tr>\n",
       "      <th>455</th>\n",
       "      <td>TA</td>\n",
       "      <td>TA</td>\n",
       "      <td>TA</td>\n",
       "      <td>TA</td>\n",
       "    </tr>\n",
       "    <tr>\n",
       "      <th>863</th>\n",
       "      <td>NaN</td>\n",
       "      <td>TA</td>\n",
       "      <td>TA</td>\n",
       "      <td>Gd</td>\n",
       "    </tr>\n",
       "    <tr>\n",
       "      <th>504</th>\n",
       "      <td>Fa</td>\n",
       "      <td>TA</td>\n",
       "      <td>TA</td>\n",
       "      <td>Fa</td>\n",
       "    </tr>\n",
       "    <tr>\n",
       "      <th>1413</th>\n",
       "      <td>Gd</td>\n",
       "      <td>TA</td>\n",
       "      <td>TA</td>\n",
       "      <td>Gd</td>\n",
       "    </tr>\n",
       "    <tr>\n",
       "      <th>1389</th>\n",
       "      <td>Gd</td>\n",
       "      <td>TA</td>\n",
       "      <td>TA</td>\n",
       "      <td>Gd</td>\n",
       "    </tr>\n",
       "    <tr>\n",
       "      <th>...</th>\n",
       "      <td>...</td>\n",
       "      <td>...</td>\n",
       "      <td>...</td>\n",
       "      <td>...</td>\n",
       "    </tr>\n",
       "    <tr>\n",
       "      <th>466</th>\n",
       "      <td>Po</td>\n",
       "      <td>TA</td>\n",
       "      <td>TA</td>\n",
       "      <td>Po</td>\n",
       "    </tr>\n",
       "    <tr>\n",
       "      <th>299</th>\n",
       "      <td>Gd</td>\n",
       "      <td>TA</td>\n",
       "      <td>TA</td>\n",
       "      <td>Gd</td>\n",
       "    </tr>\n",
       "    <tr>\n",
       "      <th>493</th>\n",
       "      <td>Fa</td>\n",
       "      <td>TA</td>\n",
       "      <td>TA</td>\n",
       "      <td>Fa</td>\n",
       "    </tr>\n",
       "    <tr>\n",
       "      <th>527</th>\n",
       "      <td>Gd</td>\n",
       "      <td>TA</td>\n",
       "      <td>TA</td>\n",
       "      <td>Gd</td>\n",
       "    </tr>\n",
       "    <tr>\n",
       "      <th>1192</th>\n",
       "      <td>NaN</td>\n",
       "      <td>TA</td>\n",
       "      <td>TA</td>\n",
       "      <td>TA</td>\n",
       "    </tr>\n",
       "  </tbody>\n",
       "</table>\n",
       "<p>1168 rows × 4 columns</p>\n",
       "</div>"
      ],
      "text/plain": [
       "     FireplaceQu GarageQual garage fireplace\n",
       "455           TA         TA     TA        TA\n",
       "863          NaN         TA     TA        Gd\n",
       "504           Fa         TA     TA        Fa\n",
       "1413          Gd         TA     TA        Gd\n",
       "1389          Gd         TA     TA        Gd\n",
       "...          ...        ...    ...       ...\n",
       "466           Po         TA     TA        Po\n",
       "299           Gd         TA     TA        Gd\n",
       "493           Fa         TA     TA        Fa\n",
       "527           Gd         TA     TA        Gd\n",
       "1192         NaN         TA     TA        TA\n",
       "\n",
       "[1168 rows x 4 columns]"
      ]
     },
     "execution_count": 372,
     "metadata": {},
     "output_type": "execute_result"
    }
   ],
   "source": [
    "x_train"
   ]
  },
  {
   "cell_type": "code",
   "execution_count": 380,
   "id": "81e30301",
   "metadata": {},
   "outputs": [
    {
     "data": {
      "text/html": [
       "<div>\n",
       "<style scoped>\n",
       "    .dataframe tbody tr th:only-of-type {\n",
       "        vertical-align: middle;\n",
       "    }\n",
       "\n",
       "    .dataframe tbody tr th {\n",
       "        vertical-align: top;\n",
       "    }\n",
       "\n",
       "    .dataframe thead th {\n",
       "        text-align: right;\n",
       "    }\n",
       "</style>\n",
       "<table border=\"1\" class=\"dataframe\">\n",
       "  <thead>\n",
       "    <tr style=\"text-align: right;\">\n",
       "      <th></th>\n",
       "      <th>original</th>\n",
       "      <th>imputed</th>\n",
       "    </tr>\n",
       "  </thead>\n",
       "  <tbody>\n",
       "    <tr>\n",
       "      <th>TA</th>\n",
       "      <td>0.951043</td>\n",
       "      <td>0.950342</td>\n",
       "    </tr>\n",
       "    <tr>\n",
       "      <th>Fa</th>\n",
       "      <td>0.037171</td>\n",
       "      <td>0.037671</td>\n",
       "    </tr>\n",
       "    <tr>\n",
       "      <th>Gd</th>\n",
       "      <td>0.009973</td>\n",
       "      <td>0.010274</td>\n",
       "    </tr>\n",
       "    <tr>\n",
       "      <th>Po</th>\n",
       "      <td>0.000907</td>\n",
       "      <td>0.000856</td>\n",
       "    </tr>\n",
       "    <tr>\n",
       "      <th>Ex</th>\n",
       "      <td>0.000907</td>\n",
       "      <td>0.000856</td>\n",
       "    </tr>\n",
       "  </tbody>\n",
       "</table>\n",
       "</div>"
      ],
      "text/plain": [
       "    original   imputed\n",
       "TA  0.951043  0.950342\n",
       "Fa  0.037171  0.037671\n",
       "Gd  0.009973  0.010274\n",
       "Po  0.000907  0.000856\n",
       "Ex  0.000907  0.000856"
      ]
     },
     "execution_count": 380,
     "metadata": {},
     "output_type": "execute_result"
    }
   ],
   "source": [
    "temp = pd.concat([\n",
    "    \n",
    "    x_train.GarageQual.value_counts() / len(x_train.GarageQual.dropna()),\n",
    "    \n",
    "    x_train.garage.value_counts() / len(x_train)\n",
    "    \n",
    "    \n",
    "],axis=1)\n",
    "\n",
    "temp.columns = ['original','imputed']\n",
    "\n",
    "temp"
   ]
  },
  {
   "cell_type": "code",
   "execution_count": 382,
   "id": "859fd9ed",
   "metadata": {},
   "outputs": [
    {
     "data": {
      "text/html": [
       "<div>\n",
       "<style scoped>\n",
       "    .dataframe tbody tr th:only-of-type {\n",
       "        vertical-align: middle;\n",
       "    }\n",
       "\n",
       "    .dataframe tbody tr th {\n",
       "        vertical-align: top;\n",
       "    }\n",
       "\n",
       "    .dataframe thead th {\n",
       "        text-align: right;\n",
       "    }\n",
       "</style>\n",
       "<table border=\"1\" class=\"dataframe\">\n",
       "  <thead>\n",
       "    <tr style=\"text-align: right;\">\n",
       "      <th></th>\n",
       "      <th>original</th>\n",
       "      <th>imputed</th>\n",
       "    </tr>\n",
       "  </thead>\n",
       "  <tbody>\n",
       "    <tr>\n",
       "      <th>Gd</th>\n",
       "      <td>0.494272</td>\n",
       "      <td>0.397945</td>\n",
       "    </tr>\n",
       "    <tr>\n",
       "      <th>TA</th>\n",
       "      <td>0.412439</td>\n",
       "      <td>0.328767</td>\n",
       "    </tr>\n",
       "    <tr>\n",
       "      <th>Fa</th>\n",
       "      <td>0.040917</td>\n",
       "      <td>0.032192</td>\n",
       "    </tr>\n",
       "    <tr>\n",
       "      <th>Po</th>\n",
       "      <td>0.027823</td>\n",
       "      <td>0.022603</td>\n",
       "    </tr>\n",
       "    <tr>\n",
       "      <th>Ex</th>\n",
       "      <td>0.024550</td>\n",
       "      <td>0.018493</td>\n",
       "    </tr>\n",
       "  </tbody>\n",
       "</table>\n",
       "</div>"
      ],
      "text/plain": [
       "    original   imputed\n",
       "Gd  0.494272  0.397945\n",
       "TA  0.412439  0.328767\n",
       "Fa  0.040917  0.032192\n",
       "Po  0.027823  0.022603\n",
       "Ex  0.024550  0.018493"
      ]
     },
     "execution_count": 382,
     "metadata": {},
     "output_type": "execute_result"
    }
   ],
   "source": [
    "temp = pd.concat([\n",
    "    \n",
    "    x_train.FireplaceQu.value_counts() / len(x_train.FireplaceQu.dropna()),\n",
    "    \n",
    "    x_train.fireplace.value_counts() / len(df1)\n",
    "    \n",
    "    \n",
    "],axis=1)\n",
    "\n",
    "temp.columns = ['original','imputed']\n",
    "\n",
    "temp"
   ]
  }
 ],
 "metadata": {
  "kernelspec": {
   "display_name": "Python 3 (ipykernel)",
   "language": "python",
   "name": "python3"
  },
  "language_info": {
   "codemirror_mode": {
    "name": "ipython",
    "version": 3
   },
   "file_extension": ".py",
   "mimetype": "text/x-python",
   "name": "python",
   "nbconvert_exporter": "python",
   "pygments_lexer": "ipython3",
   "version": "3.9.12"
  }
 },
 "nbformat": 4,
 "nbformat_minor": 5
}
